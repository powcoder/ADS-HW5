{
 "cells": [
  {
   "cell_type": "markdown",
   "metadata": {},
   "source": [
    "# Coursework 2B: CSV and HTML\n",
    "\n",
    "### Last updated 21.11.2019\n",
    "\n",
    "This coursework is designed to illustrate and develop techniques for\n",
    "extracting information from files and transforming it into a format\n",
    "suitable for display. In particular, you will be concerned with extracting\n",
    "information from CSV files and displaying it in a HTML format. You will\n",
    "also see how information can be enriched by automatic addition of links\n",
    "to other relevant information.\n",
    "\n",
    "\n",
    "### Questions Overview\n",
    "\n",
    "* Extract and display information from a CSV playlist file (4 marks)\n",
    "\n",
    "* Generate an HTML search query from textual query strings (2 marks)\n",
    "\n",
    "* Generate a HTML table from playlist file (9 marks)\n",
    "\n",
    "### Files Provided\n",
    "A couple of example CSV playlist files are provided:\n",
    "* [```geek-music.csv```](https://teaching.bb-ai.net/PythonCoding/Files_and_Web/geek-music.csv)\n",
    "* [```snake-music.csv```](https://teaching.bb-ai.net/PythonCoding/Files_and_Web/snake-music.csv)"
   ]
  },
  {
   "cell_type": "markdown",
   "metadata": {},
   "source": [
    "### Provided Code for Extracting Data from CSV Files\n",
    "\n",
    "You have seen how we can quite easily extract data from a CSV file in the form of a _list of lists_, which I call a _datalist_."
   ]
  },
  {
   "cell_type": "code",
   "execution_count": 1,
   "metadata": {
    "collapsed": false
   },
   "outputs": [
    {
     "name": "stdout",
     "output_type": "stream",
     "text": [
      "['Track', 'Artist', 'Album', 'Time']\n",
      "['Computer Love', 'Kraftwerk', 'Computer World', '7:15']\n",
      "['Paranoid Android', 'Radiohead', 'OK Computer', '6:27']\n",
      "['Computer Age', 'Neil Young', 'Trans', '5:24']\n",
      "['Digital', 'Joy Division', 'Still', '2:50']\n",
      "['Silver Machine', 'Hawkwind', 'Roadhawks', '4:39']\n",
      "['Start the Simulator', 'A-Ha', 'Foot of the Mountain', '5:11']\n",
      "['Internet Connection', 'M.I.A.', 'MAYA', '2:56']\n",
      "['Deep Blue', 'Arcade Fire', 'The Suburbs', '4:29']\n",
      "['I Will Derive!', 'MindofMatthew', 'You Tube', '3:17']\n",
      "['Lobachevsky', 'Tom Lehrer', 'You Tube', '3:04']\n"
     ]
    }
   ],
   "source": [
    "## Import module for handling csv files.\n",
    "import csv\n",
    "\n",
    "## You can use the following function to read data from a csv format file\n",
    "# The data is extracted from the file as a list of lists\n",
    "\n",
    "def get_datalist_from_csv( filename ):\n",
    "    ## Create a 'file object' f, for accessing the file\n",
    "    with open( filename ) as f:\n",
    "         reader = csv.reader(f)     # create a 'csv reader' from the file object\n",
    "         datalist = list( reader )  # create a list from the reader\n",
    "    return datalist\n",
    "\n",
    "def test():\n",
    "    data = get_datalist_from_csv(\"geek-music.csv\")\n",
    "    for row in data: \n",
    "        print(row)\n",
    "        \n",
    "test()\n",
    "    "
   ]
  },
  {
   "cell_type": "markdown",
   "metadata": {},
   "source": [
    "## Q1: Extracting information from files\n",
    "\n",
    "\n",
    "Download the files ```geek-music.csv``` and ```snake-music.csv```.\n",
    "These files contain music playlists, specified in a fixed four column format. The contents of  ```geek-music.csv``` are:\n",
    "\n",
    "<pre>\n",
    "Track,Artist,Album,Time\n",
    "Computer Love,Kraftwerk,Computer World,7:15\n",
    "Paranoid Android,Radiohead,OK Computer,6:27\n",
    "Computer Age,Neil Young,Trans,5:24\n",
    "Digital,Joy Division,Still,2:50\n",
    "Silver Machine,Hawkwind,Roadhawks,4:39\n",
    "Start the Simulator,A-Ha,Foot of the Mountain,5:11\n",
    "Internet Connection,M.I.A.,MAYA,2:56\n",
    "Deep Blue,Arcade Fire,The Suburbs,4:29\n",
    "I Will Derive!,MindofMatthew,You Tube,3:17\n",
    "Lobachevsky,Tom Lehrer,You Tube,3:04\n",
    "</pre>\n",
    "\n",
    "The first three collumns give the track name, artist and album. These are all strings.\n",
    "For this excercise, you do not need to worry about commas and quotations within the CSV file.\n",
    "I will not put these in my test file, and in any case, you are recomended to import the ```csv``` \n",
    "module, which will handle such characters automatically. \n",
    "\n",
    "The format for the playing time is usually ```m:s``` but could also be ```h:m:s``` or ```s``` (for very long\n",
    "or short tracks),  where ```h``` ```m``` and ```s``` are any appropriate 1 or 2 digit numbers representing hours, minutes and seconds, respectively.\n",
    "\n",
    "Your task is to write a function ```display_playlist_info``` that can load a playlist CSV file and extract and print out the following information:\n",
    "* the number of tracks,\n",
    "* the longest and shortest tracks,\n",
    "* the total playing time of all tracks.\n",
    "\n",
    "So, for ```geek-music.csv``` the output should be something line:\n",
    "\n",
    "<pre>\n",
    "Displaying info for playlist file: geek_music.csv \n",
    "Number of tracks: 10\n",
    "Longest track: Paranoid Android by Radiohead (6:27)\n",
    "Shortest track: Digital by Joy Division (2:50)\n",
    "Total playing time: 45:32\n",
    "</pre>\n"
   ]
  },
  {
   "cell_type": "code",
   "execution_count": 2,
   "metadata": {
    "collapsed": true
   },
   "outputs": [],
   "source": [
    "import csv\n",
    "def display_playlist_info( filename ):\n",
    "    print( \"Displaying info for playlist file:\", filename )\n",
    "    ## replace the following with code to produce the required info\n",
    "    print( \"Sorry, display code not written.\")"
   ]
  },
  {
   "cell_type": "markdown",
   "metadata": {},
   "source": [
    "### Grading for Q1\n",
    "\n",
    "The following cell is for the marker to use to run your ```display_playlist_info``` function. It will run it on a different playlist file from the ones you have been given. But it will have the same format in terms of its columns --- i.e. 4 columns with the\n",
    "contents described above."
   ]
  },
  {
   "cell_type": "code",
   "execution_count": 3,
   "metadata": {
    "collapsed": false
   },
   "outputs": [
    {
     "name": "stdout",
     "output_type": "stream",
     "text": [
      "Grading: display_playlist_info\n",
      "calling  display_playlist_info( \"geek-music.csv\"  ) .....\n",
      "Displaying info for playlist file: geek-music.csv\n",
      "Sorry, display code not written.\n",
      "calling  display_playlist_info( \"snake-music.csv\" ) .....\n",
      "Displaying info for playlist file: snake-music.csv\n",
      "Sorry, display code not written.\n"
     ]
    }
   ],
   "source": [
    "from PP_CW2B_CSV_HTML_tests import *\n",
    "grade = None\n",
    "grade_PP_CW2B(display_playlist_info, grade)\n"
   ]
  },
  {
   "cell_type": "markdown",
   "metadata": {},
   "source": [
    "### Q1 Feedback\n",
    "_Markers feedback on Q1 will go here._"
   ]
  },
  {
   "cell_type": "markdown",
   "metadata": {},
   "source": [
    "## Background and Examples on Displaying and Transforming Data\n",
    "The ```tabulate``` module provides a simple and easy way\n",
    "to display a datalist as a table.\n",
    "\n",
    "(Note: ```tabulate``` came installed with my Anaconda3 Python installation, but I have been told it is not pre-installed with all distributions. So you may need to install it. However, this\n",
    "example is not essential to the assignment, so you could\n",
    "just comment out the code in the next code cell and the one\n",
    "below that also uses ```tabulate```.)"
   ]
  },
  {
   "cell_type": "code",
   "execution_count": 2,
   "metadata": {
    "collapsed": false
   },
   "outputs": [
    {
     "name": "stdout",
     "output_type": "stream",
     "text": [
      "-----  ------  -------------\n",
      "Sun    696000     1.9891e+09\n",
      "Earth    6371  5973.6\n",
      "Moon     1737    73.5\n",
      "Mars     3390   641.85\n",
      "-----  ------  -------------\n"
     ]
    }
   ],
   "source": [
    "from tabulate import tabulate\n",
    "    \n",
    "TABLE = [[\"Sun\",696000,1989100000],\n",
    "         [\"Earth\",6371,5973.6],\n",
    "         [\"Moon\",1737,73.5],\n",
    "         [\"Mars\",3390,641.85]]\n",
    "\n",
    "print( tabulate(TABLE) )"
   ]
  },
  {
   "cell_type": "markdown",
   "metadata": {},
   "source": [
    "### Displaying a Table using HTML\n",
    "\n",
    "We will first do this using the ```tabulate``` module which provides functions for creating tables, \n",
    "and the ```display``` module, which enables various types of information representation, including HTML,\n",
    "to be displayed in Jupyter output."
   ]
  },
  {
   "cell_type": "code",
   "execution_count": 5,
   "metadata": {
    "collapsed": false
   },
   "outputs": [
    {
     "data": {
      "text/html": [
       "<table>\n",
       "<tbody>\n",
       "<tr><td>Sun  </td><td style=\"text-align: right;\">696000</td><td style=\"text-align: right;\">   1.9891e+09</td></tr>\n",
       "<tr><td>Earth</td><td style=\"text-align: right;\">  6371</td><td style=\"text-align: right;\">5973.6       </td></tr>\n",
       "<tr><td>Moon </td><td style=\"text-align: right;\">  1737</td><td style=\"text-align: right;\">  73.5       </td></tr>\n",
       "<tr><td>Mars </td><td style=\"text-align: right;\">  3390</td><td style=\"text-align: right;\"> 641.85      </td></tr>\n",
       "</tbody>\n",
       "</table>"
      ],
      "text/plain": [
       "<IPython.core.display.HTML object>"
      ]
     },
     "metadata": {},
     "output_type": "display_data"
    }
   ],
   "source": [
    "from IPython.display import HTML, display\n",
    "import tabulate\n",
    "\n",
    "table = [[\"Sun\",696000,1989100000],\n",
    "         [\"Earth\",6371,5973.6],\n",
    "         [\"Moon\",1737,73.5],\n",
    "         [\"Mars\",3390,641.85]]\n",
    "\n",
    "display(HTML(tabulate.tabulate(table, tablefmt='html')))\n",
    "\n"
   ]
  },
  {
   "cell_type": "markdown",
   "metadata": {},
   "source": [
    "\n",
    "The preceeding code example shows a quick and easy way of visualising tabular information. However, it hides the HTML formatting of the table from the user. This is often fine because the user does not really care about that and just wants to see the data layed out in a readable way. However, it does not allow much control of the way the data is displayed, so may not present it the way we would like it.\n",
    "\n",
    "To get more control over how information is presented, we can explicitly specify HTML formatting codes in order to display information. This is more flexibile, but does involve dealing with\n",
    "the somewhat complex details of HTML, which can be time confusing.\n",
    "\n",
    "HTML  can be used\n",
    "more efficiently, if we write general purpose functions that\n",
    "enable data to be automatically transformed into appropriate\n",
    "HTML code. In fact, This is just one case where we want to transform\n",
    "information represented in one data format into another format.\n",
    "\n",
    "The code example in the following cell illustrates such a data transformation by showing how a datalist (such as can be abstracted from a CSV) can be automatically converted into an HTML table.\n",
    "The example also shows how we can add flexibility to the\n",
    "transformation by having default settings that can be over-ridden\n",
    "by specifying alternatives.\n"
   ]
  },
  {
   "cell_type": "code",
   "execution_count": 6,
   "metadata": {
    "collapsed": true
   },
   "outputs": [],
   "source": [
    "## We need the following modules to display HTML directly\n",
    "## in the output of a Jupyter code cell\n",
    "from IPython.display import HTML, display\n",
    "\n",
    "## Here we specify default values for certain HTML elements\n",
    "## Note that here we are using a \"dictionary of dictionaries\".\n",
    "HTML_DEFAULTS = {\n",
    "  # Main dictionary key  \n",
    "  \"table_style\"         : { \"text-align\" : \"center\",\n",
    "                            \"border\"     : '4px solid black' },\n",
    "\n",
    "  \"element_style\"       : { \"text-align\" : \"center\",\n",
    "                            \"border\"     : '1px solid black' } ,\n",
    "    \n",
    "  # Colors are specified by 6 hexadecimal digits: \"#RRGGBB\"\n",
    "  # The digits represent the amount of Red, Green and Blue\n",
    "  \"element_color\"      : \"#ddffff\", \n",
    "}\n",
    "\n",
    "def make_html_table_from_datalist( \n",
    "       datalist,      # This is the actual data\n",
    "    \n",
    "       #These are optional styling parameters:\n",
    "       # parameter\n",
    "       table_style    = HTML_DEFAULTS[\"table_style\"   ], \n",
    "       element_style  = HTML_DEFAULTS[\"element_style\" ],\n",
    "       element_color = HTML_DEFAULTS[\"element_color\"]    ):\n",
    "    \n",
    "    ## Get html code representing the table style options\n",
    "    ## using function defined below\n",
    "    table_style_str = html_style_string( table_style )\n",
    "    \n",
    "    ## Start of table (the table style string is inserted)\n",
    "    html_string = \"<table {}>\\n\".format(table_style_str)\n",
    "    \n",
    "    ## Get html code representing the style of table elements\n",
    "    elt_style_str   = html_style_string( element_style )\n",
    "    \n",
    "    ## Add html for each row of the table\n",
    "    for row in datalist:\n",
    "        \n",
    "        # start table row:\n",
    "        html_string += '<tr style=\"background-color:{}\">\\n'.format(element_color) \n",
    "        \n",
    "        # add html for each element of the row \n",
    "        for element in row:\n",
    "            html_string += \"<td {}>{}</td> \".format(elt_style_str, str(element)) \n",
    "            \n",
    "        html_string += \"\\n</tr>\\n\" # end table row\n",
    "        \n",
    "    return html_string ## return html string for the full table\n",
    "\n",
    "\n",
    "## Create an HTML style string from a dictionary of style options\n",
    "def html_style_string( style_dict ):\n",
    "    style_str = \"\"\n",
    "    if style_dict:\n",
    "        style_str = 'style=\"'\n",
    "        for style in style_dict: \n",
    "            style_str += \"{}:{};\".format(style, style_dict[style])\n",
    "        style_str += '\"' # add final close quote\n",
    "    return style_str\n",
    "\n",
    "## Now use functions from the imported modules display and HTML\n",
    "## to display our HTML string as formatted HTML output.\n",
    "def display_datalist_as_html_table( datalist ):\n",
    "    html_table = make_html_table_from_datalist( datalist )\n",
    "    display(HTML( html_table ))\n",
    "    "
   ]
  },
  {
   "cell_type": "markdown",
   "metadata": {},
   "source": [
    "### An example conversion from CSV to HTML\n",
    "The following cell tests the functions defined so far by showing how we can extract a datalist from an file \"geek-music.csv\", and display it as an HTML table."
   ]
  },
  {
   "cell_type": "code",
   "execution_count": 7,
   "metadata": {
    "collapsed": false,
    "scrolled": true
   },
   "outputs": [
    {
     "data": {
      "text/html": [
       "<table style=\"text-align:center;border:4px solid black;\">\n",
       "<tr style=\"background-color:#ddffff\">\n",
       "<td style=\"text-align:center;border:1px solid black;\">Track</td> <td style=\"text-align:center;border:1px solid black;\">Artist</td> <td style=\"text-align:center;border:1px solid black;\">Album</td> <td style=\"text-align:center;border:1px solid black;\">Time</td> \n",
       "</tr>\n",
       "<tr style=\"background-color:#ddffff\">\n",
       "<td style=\"text-align:center;border:1px solid black;\">Computer Love</td> <td style=\"text-align:center;border:1px solid black;\">Kraftwerk</td> <td style=\"text-align:center;border:1px solid black;\">Computer World</td> <td style=\"text-align:center;border:1px solid black;\">7:15</td> \n",
       "</tr>\n",
       "<tr style=\"background-color:#ddffff\">\n",
       "<td style=\"text-align:center;border:1px solid black;\">Paranoid Android</td> <td style=\"text-align:center;border:1px solid black;\">Radiohead</td> <td style=\"text-align:center;border:1px solid black;\">OK Computer</td> <td style=\"text-align:center;border:1px solid black;\">6:27</td> \n",
       "</tr>\n",
       "<tr style=\"background-color:#ddffff\">\n",
       "<td style=\"text-align:center;border:1px solid black;\">Computer Age</td> <td style=\"text-align:center;border:1px solid black;\">Neil Young</td> <td style=\"text-align:center;border:1px solid black;\">Trans</td> <td style=\"text-align:center;border:1px solid black;\">5:24</td> \n",
       "</tr>\n",
       "<tr style=\"background-color:#ddffff\">\n",
       "<td style=\"text-align:center;border:1px solid black;\">Digital</td> <td style=\"text-align:center;border:1px solid black;\">Joy Division</td> <td style=\"text-align:center;border:1px solid black;\">Still</td> <td style=\"text-align:center;border:1px solid black;\">2:50</td> \n",
       "</tr>\n",
       "<tr style=\"background-color:#ddffff\">\n",
       "<td style=\"text-align:center;border:1px solid black;\">Silver Machine</td> <td style=\"text-align:center;border:1px solid black;\">Hawkwind</td> <td style=\"text-align:center;border:1px solid black;\">Roadhawks</td> <td style=\"text-align:center;border:1px solid black;\">4:39</td> \n",
       "</tr>\n",
       "<tr style=\"background-color:#ddffff\">\n",
       "<td style=\"text-align:center;border:1px solid black;\">Start the Simulator</td> <td style=\"text-align:center;border:1px solid black;\">A-Ha</td> <td style=\"text-align:center;border:1px solid black;\">Foot of the Mountain</td> <td style=\"text-align:center;border:1px solid black;\">5:11</td> \n",
       "</tr>\n",
       "<tr style=\"background-color:#ddffff\">\n",
       "<td style=\"text-align:center;border:1px solid black;\">Internet Connection</td> <td style=\"text-align:center;border:1px solid black;\">M.I.A.</td> <td style=\"text-align:center;border:1px solid black;\">MAYA</td> <td style=\"text-align:center;border:1px solid black;\">2:56</td> \n",
       "</tr>\n",
       "<tr style=\"background-color:#ddffff\">\n",
       "<td style=\"text-align:center;border:1px solid black;\">Deep Blue</td> <td style=\"text-align:center;border:1px solid black;\">Arcade Fire</td> <td style=\"text-align:center;border:1px solid black;\">The Suburbs</td> <td style=\"text-align:center;border:1px solid black;\">4:29</td> \n",
       "</tr>\n",
       "<tr style=\"background-color:#ddffff\">\n",
       "<td style=\"text-align:center;border:1px solid black;\">I Will Derive!</td> <td style=\"text-align:center;border:1px solid black;\">MindofMatthew</td> <td style=\"text-align:center;border:1px solid black;\">You Tube</td> <td style=\"text-align:center;border:1px solid black;\">3:17</td> \n",
       "</tr>\n",
       "<tr style=\"background-color:#ddffff\">\n",
       "<td style=\"text-align:center;border:1px solid black;\">Lobachevsky</td> <td style=\"text-align:center;border:1px solid black;\">Tom Lehrer</td> <td style=\"text-align:center;border:1px solid black;\">You Tube</td> <td style=\"text-align:center;border:1px solid black;\">3:04</td> \n",
       "</tr>\n"
      ],
      "text/plain": [
       "<IPython.core.display.HTML object>"
      ]
     },
     "metadata": {},
     "output_type": "display_data"
    }
   ],
   "source": [
    "datalist = get_datalist_from_csv(\"geek-music.csv\") \n",
    "\n",
    "display_datalist_as_html_table( datalist )"
   ]
  },
  {
   "cell_type": "markdown",
   "metadata": {},
   "source": [
    "### Automatically Adding URL Links\n",
    "Perhaps the most distinctive feature of an HTML document is that it is connected to other documents or information sources via links.\n",
    "\n",
    "Suppose I want to create a link that, when clicked, will carry out a search for some given wors on YouTube. \n",
    "\n",
    "You tube supports access to its search engine via a special type of URL, that will perform a search and generate a results page, just as if the a normal search was being performed. But in this case the words that it searches for are in the URL, so do not need to be typed in.\n",
    "\n",
    "For instance, the URL to search YouTube for \"Computer Love\" by \"Kraftwerk\" is:\n",
    "\n",
    "```html\n",
    "https://www.youtube.com/results?search_query=Computer+Love+by+Kraftwerk\n",
    "```\n",
    "\n",
    "Similarly, to search for \"Kraftwerk\" in Wikipedia, I can use the following URL:\n",
    "\n",
    "```html\n",
    "https://en.wikipedia.org/?search=Kraftwerk\n",
    "```\n",
    "\n",
    "To actually create a link in an HTML document, we need to use an _anchor_ tag, of\n",
    "the form:\n",
    "```html\n",
    "<a href=\"the_url\">Link Text</a>\n",
    "```\n",
    "\n",
    "This is illustrated in the following code cell, which uses the _magic_ declaration ```%%HTML```\n",
    "to specify that the cell should be interpreted and displayed as HTML, when run. If you run it\n",
    "you should see two active HTML links in the output."
   ]
  },
  {
   "cell_type": "code",
   "execution_count": 8,
   "metadata": {
    "collapsed": false
   },
   "outputs": [
    {
     "data": {
      "text/html": [
       "<a href=\"https://www.youtube.com/results?search_query=Computer+Love+by+Kraftwerk\">Computer Love</a>\n",
       "<br>\n",
       "<a href=\"https://en.wikipedia.org/?search=Kraftwerk\">Kraftwerk</a>\n"
      ],
      "text/plain": [
       "<IPython.core.display.HTML object>"
      ]
     },
     "metadata": {},
     "output_type": "display_data"
    }
   ],
   "source": [
    "%%HTML\n",
    "<a href=\"https://www.youtube.com/results?search_query=Computer+Love+by+Kraftwerk\">Computer Love</a>\n",
    "<br>\n",
    "<a href=\"https://en.wikipedia.org/?search=Kraftwerk\">Kraftwerk</a>"
   ]
  },
  {
   "cell_type": "markdown",
   "metadata": {},
   "source": [
    "## Q2: Automatically Generate an HTML link from data\n",
    "\n",
    "In order to dynamically create a web-page with useful links from some data source\n",
    "(e.g. a playlist csv file), we need a function that will generate the correct\n",
    "HTML code for such a link from some given query terms.\n",
    "\n",
    "To answer this question, code a function ```youtube_query_link( track, artist, link_text)```, which will create an HTML link that will search for the given\n",
    "```track``` by the given ```artist``` and use ```link_text``` for the text of the link.\n",
    "\n",
    "Thus for example:\n",
    "```\n",
    "youtube_query_link( \"Computer Love\", \"Krafterk\", \"Computer Love\" )\n",
    "\n",
    "```\n",
    "would produce the link:\n",
    "```\n",
    "<a href=\"https://www.youtube.com/results?search_query=Computer+Love+by+Kraftwerk\">Computer Love</a>\n",
    "```\n",
    "as in the previous example."
   ]
  },
  {
   "cell_type": "code",
   "execution_count": 9,
   "metadata": {
    "collapsed": true
   },
   "outputs": [],
   "source": [
    "from IPython.display import display, HTML\n",
    "\n",
    "def youtube_query_link( track, artist, link_text):\n",
    "    ## Modify the following code to produce the correct youtube query link\n",
    "    return( '<a target=\"_blank\" href=\"https://teaching.bb-ai.net\">Hello!</a>' ) \n",
    "\n",
    "## Note: the cryptic HTML link option target=\"_blank\", makes the link open in\n",
    "##       a new tab or new window.\n"
   ]
  },
  {
   "cell_type": "markdown",
   "metadata": {},
   "source": [
    "### Q2 Grading\n",
    "The following cell will be used by the marker to grade Q2. \n",
    "You can use it to check that your ```youtube_query_link``` function generates a link as required."
   ]
  },
  {
   "cell_type": "code",
   "execution_count": 10,
   "metadata": {
    "collapsed": false
   },
   "outputs": [
    {
     "name": "stdout",
     "output_type": "stream",
     "text": [
      "Grading: youtube_query_link\n",
      "Testing: display(HTML(func( \"Hallogallo\", \"Neu!\", \"Hallogallo by Neu!\")))\n"
     ]
    },
    {
     "data": {
      "text/html": [
       "<a target=\"_blank\" href=\"https://teaching.bb-ai.net\">Hello!</a>"
      ],
      "text/plain": [
       "<IPython.core.display.HTML object>"
      ]
     },
     "metadata": {},
     "output_type": "display_data"
    }
   ],
   "source": [
    "from PP_CW2B_CSV_HTML_tests import *\n",
    "grade = None\n",
    "grade_PP_CW2B(youtube_query_link, grade)\n"
   ]
  },
  {
   "cell_type": "markdown",
   "metadata": {},
   "source": [
    "### Q2 Feedback\n",
    "_Marker's feedback on Q2 will be given here._"
   ]
  },
  {
   "cell_type": "markdown",
   "metadata": {},
   "source": [
    "## Q3: Generate an HTML Display from a Playlist CSV File\n",
    "\n",
    "Your goal for the last part of the coursework is to write a function ```display_playlist_as_html_table```,\n",
    "which will take the filename of a CSV playlist file, in the format described above, and display\n",
    "its contents in an HTML table.\n",
    "The table should be made attractive and informative by the use of HTML styling options\n",
    "and data enrichment such as adding additional information and links.\n"
   ]
  },
  {
   "cell_type": "code",
   "execution_count": 11,
   "metadata": {
    "collapsed": true
   },
   "outputs": [],
   "source": [
    "from IPython.display import display, HTML\n",
    "\n",
    "def display_playlist_as_html_table( filename ):\n",
    "    ## Define a function to display a playlist attractively using HTML\n",
    "    ## The playlist is read from filename, which is a CSV file.\n",
    "    print( \"This should display the playlist in the form of a nice HTML table.\")"
   ]
  },
  {
   "cell_type": "markdown",
   "metadata": {},
   "source": [
    "### Q3 Grading"
   ]
  },
  {
   "cell_type": "code",
   "execution_count": 12,
   "metadata": {
    "collapsed": false
   },
   "outputs": [
    {
     "name": "stdout",
     "output_type": "stream",
     "text": [
      "Grading: display_playlist_as_html_table\n",
      "This should display the playlist in the form of a nice HTML table.\n"
     ]
    }
   ],
   "source": [
    "from PP_CW2B_CSV_HTML_tests import *\n",
    "grade = None\n",
    "grade_PP_CW2B( display_playlist_as_html_table, grade )\n"
   ]
  },
  {
   "cell_type": "markdown",
   "metadata": {},
   "source": [
    "### Q3 Feedback\n",
    "_Marker's feedback on Q3 will be given here._"
   ]
  },
  {
   "cell_type": "markdown",
   "metadata": {},
   "source": [
    "### Overall Grade Processing\n",
    "Once grading has been competed this will show the marks awarded."
   ]
  },
  {
   "cell_type": "code",
   "execution_count": 13,
   "metadata": {
    "collapsed": false
   },
   "outputs": [
    {
     "name": "stdout",
     "output_type": "stream",
     "text": [
      "This function will be used to display your grades once it has been marked.\n",
      "Q1:  None\n",
      "Q2:  None\n",
      "Q3:  None\n"
     ]
    }
   ],
   "source": [
    "from PP_CW2B_CSV_HTML_tests import *\n",
    "show_grades_PP_CW2B()"
   ]
  },
  {
   "cell_type": "code",
   "execution_count": null,
   "metadata": {
    "collapsed": true
   },
   "outputs": [],
   "source": []
  }
 ],
 "metadata": {
  "kernelspec": {
   "display_name": "Python 3",
   "language": "python",
   "name": "python3"
  },
  "language_info": {
   "codemirror_mode": {
    "name": "ipython",
    "version": 3
   },
   "file_extension": ".py",
   "mimetype": "text/x-python",
   "name": "python",
   "nbconvert_exporter": "python",
   "pygments_lexer": "ipython3",
   "version": "3.5.5"
  }
 },
 "nbformat": 4,
 "nbformat_minor": 2
}
